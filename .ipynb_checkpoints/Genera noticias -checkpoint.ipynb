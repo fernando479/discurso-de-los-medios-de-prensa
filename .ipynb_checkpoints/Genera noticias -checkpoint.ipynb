{
 "cells": [
  {
   "cell_type": "code",
   "execution_count": 1,
   "id": "9644959d",
   "metadata": {},
   "outputs": [],
   "source": [
    "import elasticsearch\n",
    "from datetime import datetime"
   ]
  },
  {
   "cell_type": "code",
   "execution_count": 2,
   "id": "0024b815",
   "metadata": {},
   "outputs": [],
   "source": [
    "country=\"chile\"\n",
    "from_=\"2021-01-01\"\n",
    "to_=\"2021-01-31\"\n",
    "media_outlets=[\"elllanquihue\",\"elaustral\",\"laestrelladechiloe\",\"elheraldoaustral\",\"radiosago\",\n",
    "               \"elrepuertero\",\"elvacanudo\",\"elhuemul\",\"seminariolocal\",\"elquellonino\",\"elinsular\",\n",
    "               \"radiopudeto\",\"radioacogida\",\"elcalbucano\",\"segundos33\",\n",
    "               \"prensadelestuario\",\"fresiaahora\",\"soychiloe\"]\n",
    "\n",
    "keyword=\"\"\n",
    "simple_keyword=False"
   ]
  },
  {
   "cell_type": "code",
   "execution_count": 3,
   "id": "6b631b65",
   "metadata": {},
   "outputs": [],
   "source": [
    "IP = \"search.sophia2.org\"\n",
    "PORT = 9200\n",
    "USER= \"elastic\"\n",
    "PASS= \"dummy_elastic\""
   ]
  },
  {
   "cell_type": "code",
   "execution_count": 4,
   "id": "27c9f9e6",
   "metadata": {},
   "outputs": [],
   "source": [
    "#NO MODIFICAR\n",
    "\n",
    "es = elasticsearch.Elasticsearch(\n",
    "    IP,\n",
    "    #port=PORT,\n",
    "    http_auth=(USER, PASS)\n",
    ")"
   ]
  },
  {
   "cell_type": "code",
   "execution_count": 5,
   "id": "9dbb99be",
   "metadata": {},
   "outputs": [],
   "source": [
    "#NO MODIFICAR\n",
    "match=\"\"\n",
    "if (simple_keyword):\n",
    "    match=\"match\"\n",
    "else:\n",
    "    match=\"match_phrase\"\n",
    "\n",
    "query = { \n",
    "    \"bool\": { \n",
    "      #\"must\": [\n",
    "      #  {match: { \"text\":keyword}}\n",
    "\n",
    "      #],\n",
    "    \"filter\": [\n",
    "        {\"range\": {\n",
    "      \"date\": {\n",
    "        \"gte\": from_,\n",
    "        \"lt\": to_\n",
    "      }}},\n",
    "        { \"term\":  { \"country\": country }},\n",
    "        { \"terms\":  { \"media_outlet\": media_outlets }} \n",
    "    ]\n",
    "    }  \n",
    "}"
   ]
  },
  {
   "cell_type": "code",
   "execution_count": 6,
   "id": "abf14269",
   "metadata": {},
   "outputs": [
    {
     "name": "stdout",
     "output_type": "stream",
     "text": [
      "Son 6813 noticias encontradas...\n"
     ]
    }
   ],
   "source": [
    "res = es.search(index=\"news\", query=query, size=10000)\n",
    "print(\"Son %d noticias encontradas...\" % res['hits']['total']['value'])"
   ]
  },
  {
   "cell_type": "code",
   "execution_count": 8,
   "id": "a401900f",
   "metadata": {},
   "outputs": [
    {
     "data": {
      "text/html": [
       "<div>\n",
       "<style scoped>\n",
       "    .dataframe tbody tr th:only-of-type {\n",
       "        vertical-align: middle;\n",
       "    }\n",
       "\n",
       "    .dataframe tbody tr th {\n",
       "        vertical-align: top;\n",
       "    }\n",
       "\n",
       "    .dataframe thead th {\n",
       "        text-align: right;\n",
       "    }\n",
       "</style>\n",
       "<table border=\"1\" class=\"dataframe\">\n",
       "  <thead>\n",
       "    <tr style=\"text-align: right;\">\n",
       "      <th></th>\n",
       "      <th>id_news</th>\n",
       "      <th>country</th>\n",
       "      <th>media_outlet</th>\n",
       "      <th>url</th>\n",
       "      <th>title</th>\n",
       "      <th>text</th>\n",
       "      <th>date</th>\n",
       "    </tr>\n",
       "  </thead>\n",
       "  <tbody>\n",
       "    <tr>\n",
       "      <th>0</th>\n",
       "      <td>21887880.0</td>\n",
       "      <td>chile</td>\n",
       "      <td>radiosago</td>\n",
       "      <td>https://www.radiosago.cl/en-prision-quedo-func...</td>\n",
       "      <td>En prisión quedó funcionario de ONEMI y volunt...</td>\n",
       "      <td>Cabe recordar que al detenido se le acusa com...</td>\n",
       "      <td>2021-01-26</td>\n",
       "    </tr>\n",
       "    <tr>\n",
       "      <th>1</th>\n",
       "      <td>21887886.0</td>\n",
       "      <td>chile</td>\n",
       "      <td>radiosago</td>\n",
       "      <td>https://www.radiosago.cl/puerto-montt-rotura-d...</td>\n",
       "      <td>Puerto Montt: rotura de matriz dejó sin agua p...</td>\n",
       "      <td>Más de 900 viviendas quedaron sin agua potable...</td>\n",
       "      <td>2021-01-16</td>\n",
       "    </tr>\n",
       "    <tr>\n",
       "      <th>2</th>\n",
       "      <td>21887889.0</td>\n",
       "      <td>chile</td>\n",
       "      <td>radiosago</td>\n",
       "      <td>https://www.radiosago.cl/inician-operativo-par...</td>\n",
       "      <td>Inician operativo para trasladar a 4 pacientes...</td>\n",
       "      <td>Tras posponer por razones de fuerza mayor la ...</td>\n",
       "      <td>2021-01-28</td>\n",
       "    </tr>\n",
       "    <tr>\n",
       "      <th>3</th>\n",
       "      <td>21887911.0</td>\n",
       "      <td>chile</td>\n",
       "      <td>radiosago</td>\n",
       "      <td>https://www.radiosago.cl/deportes-puerto-montt...</td>\n",
       "      <td>Deportes Puerto Montt empató a dos goles frent...</td>\n",
       "      <td>Soñando con llegar a la Primera División del f...</td>\n",
       "      <td>2021-01-21</td>\n",
       "    </tr>\n",
       "    <tr>\n",
       "      <th>4</th>\n",
       "      <td>21917871.0</td>\n",
       "      <td>chile</td>\n",
       "      <td>radiosago</td>\n",
       "      <td>https://www.radiosago.cl/puerto-varas-cesfam-h...</td>\n",
       "      <td>Puerto Varas: CESFAM habilitó número de whatsa...</td>\n",
       "      <td>El Centro de Salud Familiar, CESFAM de la comu...</td>\n",
       "      <td>2021-01-16</td>\n",
       "    </tr>\n",
       "    <tr>\n",
       "      <th>...</th>\n",
       "      <td>...</td>\n",
       "      <td>...</td>\n",
       "      <td>...</td>\n",
       "      <td>...</td>\n",
       "      <td>...</td>\n",
       "      <td>...</td>\n",
       "      <td>...</td>\n",
       "    </tr>\n",
       "    <tr>\n",
       "      <th>6808</th>\n",
       "      <td>47502220.0</td>\n",
       "      <td>chile</td>\n",
       "      <td>elaustral</td>\n",
       "      <td>https://www.australosorno.cl/impresa/2021/01/3...</td>\n",
       "      <td>Vence plazo para inscribirse en el Censo Agrop...</td>\n",
       "      <td>Hasta este 31 de enero se extendió la inscripc...</td>\n",
       "      <td>2021-01-30</td>\n",
       "    </tr>\n",
       "    <tr>\n",
       "      <th>6809</th>\n",
       "      <td>47502221.0</td>\n",
       "      <td>chile</td>\n",
       "      <td>elaustral</td>\n",
       "      <td>https://www.australosorno.cl/impresa/2021/01/3...</td>\n",
       "      <td>Vacunación: tras críticas al plan, Gobierno se...</td>\n",
       "      <td>Restan cuatro días para que se inicie el proce...</td>\n",
       "      <td>2021-01-30</td>\n",
       "    </tr>\n",
       "    <tr>\n",
       "      <th>6810</th>\n",
       "      <td>47502222.0</td>\n",
       "      <td>chile</td>\n",
       "      <td>elaustral</td>\n",
       "      <td>https://www.australosorno.cl/impresa/2021/01/3...</td>\n",
       "      <td>Pandemia no da tregua: 4.606 contagios en una ...</td>\n",
       "      <td>Chile sumó nuevamente, por segundo día consecu...</td>\n",
       "      <td>2021-01-30</td>\n",
       "    </tr>\n",
       "    <tr>\n",
       "      <th>6811</th>\n",
       "      <td>47502223.0</td>\n",
       "      <td>chile</td>\n",
       "      <td>elaustral</td>\n",
       "      <td>https://www.australosorno.cl/impresa/2021/01/3...</td>\n",
       "      <td>Producción industrial cae 4,1% y desempleo se ...</td>\n",
       "      <td>El desplome de la producción minera empujó la ...</td>\n",
       "      <td>2021-01-30</td>\n",
       "    </tr>\n",
       "    <tr>\n",
       "      <th>6812</th>\n",
       "      <td>47502224.0</td>\n",
       "      <td>chile</td>\n",
       "      <td>elaustral</td>\n",
       "      <td>https://www.australosorno.cl/impresa/2021/01/3...</td>\n",
       "      <td>Diputados presentan reforma para tercer retiro...</td>\n",
       "      <td>Un grupo de diputados de oposición ingresó aye...</td>\n",
       "      <td>2021-01-30</td>\n",
       "    </tr>\n",
       "  </tbody>\n",
       "</table>\n",
       "<p>6813 rows × 7 columns</p>\n",
       "</div>"
      ],
      "text/plain": [
       "         id_news country media_outlet  \\\n",
       "0     21887880.0   chile    radiosago   \n",
       "1     21887886.0   chile    radiosago   \n",
       "2     21887889.0   chile    radiosago   \n",
       "3     21887911.0   chile    radiosago   \n",
       "4     21917871.0   chile    radiosago   \n",
       "...          ...     ...          ...   \n",
       "6808  47502220.0   chile    elaustral   \n",
       "6809  47502221.0   chile    elaustral   \n",
       "6810  47502222.0   chile    elaustral   \n",
       "6811  47502223.0   chile    elaustral   \n",
       "6812  47502224.0   chile    elaustral   \n",
       "\n",
       "                                                    url  \\\n",
       "0     https://www.radiosago.cl/en-prision-quedo-func...   \n",
       "1     https://www.radiosago.cl/puerto-montt-rotura-d...   \n",
       "2     https://www.radiosago.cl/inician-operativo-par...   \n",
       "3     https://www.radiosago.cl/deportes-puerto-montt...   \n",
       "4     https://www.radiosago.cl/puerto-varas-cesfam-h...   \n",
       "...                                                 ...   \n",
       "6808  https://www.australosorno.cl/impresa/2021/01/3...   \n",
       "6809  https://www.australosorno.cl/impresa/2021/01/3...   \n",
       "6810  https://www.australosorno.cl/impresa/2021/01/3...   \n",
       "6811  https://www.australosorno.cl/impresa/2021/01/3...   \n",
       "6812  https://www.australosorno.cl/impresa/2021/01/3...   \n",
       "\n",
       "                                                  title  \\\n",
       "0     En prisión quedó funcionario de ONEMI y volunt...   \n",
       "1     Puerto Montt: rotura de matriz dejó sin agua p...   \n",
       "2     Inician operativo para trasladar a 4 pacientes...   \n",
       "3     Deportes Puerto Montt empató a dos goles frent...   \n",
       "4     Puerto Varas: CESFAM habilitó número de whatsa...   \n",
       "...                                                 ...   \n",
       "6808  Vence plazo para inscribirse en el Censo Agrop...   \n",
       "6809  Vacunación: tras críticas al plan, Gobierno se...   \n",
       "6810  Pandemia no da tregua: 4.606 contagios en una ...   \n",
       "6811  Producción industrial cae 4,1% y desempleo se ...   \n",
       "6812  Diputados presentan reforma para tercer retiro...   \n",
       "\n",
       "                                                   text        date  \n",
       "0      Cabe recordar que al detenido se le acusa com...  2021-01-26  \n",
       "1     Más de 900 viviendas quedaron sin agua potable...  2021-01-16  \n",
       "2      Tras posponer por razones de fuerza mayor la ...  2021-01-28  \n",
       "3     Soñando con llegar a la Primera División del f...  2021-01-21  \n",
       "4     El Centro de Salud Familiar, CESFAM de la comu...  2021-01-16  \n",
       "...                                                 ...         ...  \n",
       "6808  Hasta este 31 de enero se extendió la inscripc...  2021-01-30  \n",
       "6809  Restan cuatro días para que se inicie el proce...  2021-01-30  \n",
       "6810  Chile sumó nuevamente, por segundo día consecu...  2021-01-30  \n",
       "6811  El desplome de la producción minera empujó la ...  2021-01-30  \n",
       "6812  Un grupo de diputados de oposición ingresó aye...  2021-01-30  \n",
       "\n",
       "[6813 rows x 7 columns]"
      ]
     },
     "execution_count": 8,
     "metadata": {},
     "output_type": "execute_result"
    }
   ],
   "source": [
    "import pandas as pd\n",
    "\n",
    "data = {'id_news':[],'country':[],'media_outlet':[],'url':[],'title':[],'text':[],'date':[]}\n",
    "\n",
    "df = pd.DataFrame(data)  \n",
    "  \n",
    "for hit in res['hits']['hits']:\n",
    "    id_news = hit['_source']['id_news']\n",
    "    country = hit['_source']['country']\n",
    "    media_outlet = hit['_source']['media_outlet']\n",
    "    url = hit['_source']['url']\n",
    "    title = hit['_source']['title']\n",
    "    text = hit['_source']['text']\n",
    "    date = hit['_source']['date']\n",
    "    \n",
    "    new_row = {'id_news':id_news, 'country':country, 'media_outlet':media_outlet, 'url':url, 'title':title, 'text':text, 'date':date}\n",
    "    \n",
    "    df = df.append(new_row, ignore_index=True)\n",
    "\n",
    "df"
   ]
  },
  {
   "cell_type": "code",
   "execution_count": 13,
   "id": "ba27cd38",
   "metadata": {},
   "outputs": [
    {
     "data": {
      "text/plain": [
       "False"
      ]
     },
     "execution_count": 13,
     "metadata": {},
     "output_type": "execute_result"
    }
   ],
   "source": [
    "df['url'].duplicated().any()"
   ]
  },
  {
   "cell_type": "code",
   "execution_count": 10,
   "id": "c894b3c1",
   "metadata": {},
   "outputs": [],
   "source": [
    "df = df.drop_duplicates(subset='url', keep='first')"
   ]
  },
  {
   "cell_type": "code",
   "execution_count": 14,
   "id": "0b044d74",
   "metadata": {},
   "outputs": [],
   "source": [
    "nombre_archivo=\"Ancud-_01-01-21.csv\"\n",
    "df.to_csv(nombre_archivo)"
   ]
  },
  {
   "cell_type": "code",
   "execution_count": null,
   "id": "05c19878",
   "metadata": {},
   "outputs": [],
   "source": []
  }
 ],
 "metadata": {
  "kernelspec": {
   "display_name": "Python 3 (ipykernel)",
   "language": "python",
   "name": "python3"
  },
  "language_info": {
   "codemirror_mode": {
    "name": "ipython",
    "version": 3
   },
   "file_extension": ".py",
   "mimetype": "text/x-python",
   "name": "python",
   "nbconvert_exporter": "python",
   "pygments_lexer": "ipython3",
   "version": "3.7.13"
  },
  "varInspector": {
   "cols": {
    "lenName": 16,
    "lenType": 16,
    "lenVar": 40
   },
   "kernels_config": {
    "python": {
     "delete_cmd_postfix": "",
     "delete_cmd_prefix": "del ",
     "library": "var_list.py",
     "varRefreshCmd": "print(var_dic_list())"
    },
    "r": {
     "delete_cmd_postfix": ") ",
     "delete_cmd_prefix": "rm(",
     "library": "var_list.r",
     "varRefreshCmd": "cat(var_dic_list()) "
    }
   },
   "types_to_exclude": [
    "module",
    "function",
    "builtin_function_or_method",
    "instance",
    "_Feature"
   ],
   "window_display": false
  }
 },
 "nbformat": 4,
 "nbformat_minor": 5
}
