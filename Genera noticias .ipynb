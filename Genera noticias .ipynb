{
 "cells": [
  {
   "cell_type": "code",
   "execution_count": 2,
   "id": "ba2a29c0",
   "metadata": {},
   "outputs": [],
   "source": [
    "import elasticsearch\n",
    "from datetime import datetime"
   ]
  },
  {
   "cell_type": "code",
   "execution_count": 3,
   "id": "8ec6cf27",
   "metadata": {},
   "outputs": [],
   "source": [
    "country=\"chile\"\n",
    "from_=\"2021-04-01\"\n",
    "to_=\"2021-04-30\"\n",
    "media_outlets=[\"elllanquihue\",\"elaustral\",\"laestrelladechiloe\",\"elheraldoaustral\",\"radiosago\",\n",
    "               \"elrepuertero\",\"elvacanudo\",\"elhuemul\",\"seminariolocal\",\"elquellonino\",\"elinsular\",\n",
    "               \"radiopudeto\",\"radioacogida\",\"elcalbucano\",\"segundos33\",\n",
    "               \"prensadelestuario\",\"fresiaahora\",\"soychiloe\"]\n",
    "\n",
    "keyword=\"\"\n",
    "simple_keyword=False"
   ]
  },
  {
   "cell_type": "code",
   "execution_count": 4,
   "id": "4c3df1be",
   "metadata": {},
   "outputs": [],
   "source": [
    "IP = \"search.sophia2.org\"\n",
    "PORT = 9200\n",
    "USER= \"elastic\"\n",
    "PASS= \"dummy_elastic\""
   ]
  },
  {
   "cell_type": "code",
   "execution_count": 5,
   "id": "b013432c",
   "metadata": {},
   "outputs": [],
   "source": [
    "#NO MODIFICAR\n",
    "\n",
    "es = elasticsearch.Elasticsearch(\n",
    "    IP,\n",
    "    #port=PORT,\n",
    "    http_auth=(USER, PASS)\n",
    ")"
   ]
  },
  {
   "cell_type": "code",
   "execution_count": 6,
   "id": "285dc406",
   "metadata": {},
   "outputs": [],
   "source": [
    "#NO MODIFICAR\n",
    "match=\"\"\n",
    "if (simple_keyword):\n",
    "    match=\"match\"\n",
    "else:\n",
    "    match=\"match_phrase\"\n",
    "\n",
    "query = { \n",
    "    \"bool\": { \n",
    "      #\"must\": [\n",
    "      #  {match: { \"text\":keyword}}\n",
    "\n",
    "      #],\n",
    "    \"filter\": [\n",
    "        {\"range\": {\n",
    "      \"date\": {\n",
    "        \"gte\": from_,\n",
    "        \"lt\": to_\n",
    "      }}},\n",
    "        { \"term\":  { \"country\": country }},\n",
    "        { \"terms\":  { \"media_outlet\": media_outlets }} \n",
    "    ]\n",
    "    }  \n",
    "}"
   ]
  },
  {
   "cell_type": "code",
   "execution_count": 7,
   "id": "9f011e0b",
   "metadata": {},
   "outputs": [
    {
     "name": "stdout",
     "output_type": "stream",
     "text": [
      "Son 6773 noticias encontradas...\n"
     ]
    }
   ],
   "source": [
    "res = es.search(index=\"news\", query=query, size=10000)\n",
    "print(\"Son %d noticias encontradas...\" % res['hits']['total']['value'])"
   ]
  },
  {
   "cell_type": "code",
   "execution_count": 8,
   "id": "8517312c",
   "metadata": {},
   "outputs": [
    {
     "data": {
      "text/html": [
       "<div>\n",
       "<style scoped>\n",
       "    .dataframe tbody tr th:only-of-type {\n",
       "        vertical-align: middle;\n",
       "    }\n",
       "\n",
       "    .dataframe tbody tr th {\n",
       "        vertical-align: top;\n",
       "    }\n",
       "\n",
       "    .dataframe thead th {\n",
       "        text-align: right;\n",
       "    }\n",
       "</style>\n",
       "<table border=\"1\" class=\"dataframe\">\n",
       "  <thead>\n",
       "    <tr style=\"text-align: right;\">\n",
       "      <th></th>\n",
       "      <th>id_news</th>\n",
       "      <th>country</th>\n",
       "      <th>media_outlet</th>\n",
       "      <th>url</th>\n",
       "      <th>title</th>\n",
       "      <th>text</th>\n",
       "      <th>date</th>\n",
       "    </tr>\n",
       "  </thead>\n",
       "  <tbody>\n",
       "    <tr>\n",
       "      <th>0</th>\n",
       "      <td>21889860.0</td>\n",
       "      <td>chile</td>\n",
       "      <td>radiosago</td>\n",
       "      <td>https://www.radiosago.cl/se-intensifica-el-par...</td>\n",
       "      <td>Se intensifica el paro portuario en Puerto Mon...</td>\n",
       "      <td>Los trabajadores agrupados en la  Unión Portua...</td>\n",
       "      <td>2021-04-27</td>\n",
       "    </tr>\n",
       "    <tr>\n",
       "      <th>1</th>\n",
       "      <td>21915643.0</td>\n",
       "      <td>chile</td>\n",
       "      <td>radiosago</td>\n",
       "      <td>https://www.radiosago.cl/confirman-octavo-caso...</td>\n",
       "      <td>Confirman octavo caso de Hantavirus en lo que ...</td>\n",
       "      <td>En la comuna de Panguipulli se registró un nue...</td>\n",
       "      <td>2021-04-28</td>\n",
       "    </tr>\n",
       "    <tr>\n",
       "      <th>2</th>\n",
       "      <td>21915810.0</td>\n",
       "      <td>chile</td>\n",
       "      <td>radiosago</td>\n",
       "      <td>https://www.radiosago.cl/la-region-de-los-lago...</td>\n",
       "      <td>La región de Los Lagos reportó 283 contagios d...</td>\n",
       "      <td>Así lo dio a conocer la Seremi de Salud de la ...</td>\n",
       "      <td>2021-04-25</td>\n",
       "    </tr>\n",
       "    <tr>\n",
       "      <th>3</th>\n",
       "      <td>21915811.0</td>\n",
       "      <td>chile</td>\n",
       "      <td>radiosago</td>\n",
       "      <td>https://www.radiosago.cl/puerto-octay-y-puerto...</td>\n",
       "      <td>Puerto Octay y Puerto Varas avanzarán a Fase 3...</td>\n",
       "      <td>La Subsecretaria de Salud Pública, Paula Daza,...</td>\n",
       "      <td>2021-04-26</td>\n",
       "    </tr>\n",
       "    <tr>\n",
       "      <th>4</th>\n",
       "      <td>21915812.0</td>\n",
       "      <td>chile</td>\n",
       "      <td>radiosago</td>\n",
       "      <td>https://www.radiosago.cl/244-nuevos-contagios-...</td>\n",
       "      <td>244 nuevos contagios y 4 fallecidos por corona...</td>\n",
       "      <td>Según las cifras dadas a conocer por la autori...</td>\n",
       "      <td>2021-04-26</td>\n",
       "    </tr>\n",
       "    <tr>\n",
       "      <th>...</th>\n",
       "      <td>...</td>\n",
       "      <td>...</td>\n",
       "      <td>...</td>\n",
       "      <td>...</td>\n",
       "      <td>...</td>\n",
       "      <td>...</td>\n",
       "      <td>...</td>\n",
       "    </tr>\n",
       "    <tr>\n",
       "      <th>6768</th>\n",
       "      <td>47512676.0</td>\n",
       "      <td>chile</td>\n",
       "      <td>laestrelladechiloe</td>\n",
       "      <td>https://www.laestrellachiloe.cl/impresa/2021/0...</td>\n",
       "      <td>Monster Hunter Rise ahora trae la cacería de m...</td>\n",
       "      <td>Tras el éxito comercial y críticas de Monster ...</td>\n",
       "      <td>2021-04-05</td>\n",
       "    </tr>\n",
       "    <tr>\n",
       "      <th>6769</th>\n",
       "      <td>47512677.0</td>\n",
       "      <td>chile</td>\n",
       "      <td>laestrelladechiloe</td>\n",
       "      <td>https://www.laestrellachiloe.cl/impresa/2021/0...</td>\n",
       "      <td>Satélites artificiales: el impacto en vigilanc...</td>\n",
       "      <td>De los más de 2.000 satélites artificiales que...</td>\n",
       "      <td>2021-04-05</td>\n",
       "    </tr>\n",
       "    <tr>\n",
       "      <th>6770</th>\n",
       "      <td>47512678.0</td>\n",
       "      <td>chile</td>\n",
       "      <td>laestrelladechiloe</td>\n",
       "      <td>https://www.laestrellachiloe.cl/impresa/2021/0...</td>\n",
       "      <td>Parche de Cyberpunk 2077 arregla bugs</td>\n",
       "      <td>La actualización 1.2 de Cyberpunk 2077 está di...</td>\n",
       "      <td>2021-04-05</td>\n",
       "    </tr>\n",
       "    <tr>\n",
       "      <th>6771</th>\n",
       "      <td>47512679.0</td>\n",
       "      <td>chile</td>\n",
       "      <td>laestrelladechiloe</td>\n",
       "      <td>https://www.laestrellachiloe.cl/impresa/2021/0...</td>\n",
       "      <td>Among Us estrena su primer mapa nuevo</td>\n",
       "      <td>Ya ha sido liberado el primer mapa nuevo del j...</td>\n",
       "      <td>2021-04-05</td>\n",
       "    </tr>\n",
       "    <tr>\n",
       "      <th>6772</th>\n",
       "      <td>47612440.0</td>\n",
       "      <td>chile</td>\n",
       "      <td>elrepuertero</td>\n",
       "      <td>https://www.elrepuertero.cl/noticia/sociedad/i...</td>\n",
       "      <td>Iniciativa única en Chile: Nuevo Laboratorio d...</td>\n",
       "      <td>El Concejo Municipal  de Puerto Montt aprobó- ...</td>\n",
       "      <td>2021-04-23</td>\n",
       "    </tr>\n",
       "  </tbody>\n",
       "</table>\n",
       "<p>6773 rows × 7 columns</p>\n",
       "</div>"
      ],
      "text/plain": [
       "         id_news country        media_outlet  \\\n",
       "0     21889860.0   chile           radiosago   \n",
       "1     21915643.0   chile           radiosago   \n",
       "2     21915810.0   chile           radiosago   \n",
       "3     21915811.0   chile           radiosago   \n",
       "4     21915812.0   chile           radiosago   \n",
       "...          ...     ...                 ...   \n",
       "6768  47512676.0   chile  laestrelladechiloe   \n",
       "6769  47512677.0   chile  laestrelladechiloe   \n",
       "6770  47512678.0   chile  laestrelladechiloe   \n",
       "6771  47512679.0   chile  laestrelladechiloe   \n",
       "6772  47612440.0   chile        elrepuertero   \n",
       "\n",
       "                                                    url  \\\n",
       "0     https://www.radiosago.cl/se-intensifica-el-par...   \n",
       "1     https://www.radiosago.cl/confirman-octavo-caso...   \n",
       "2     https://www.radiosago.cl/la-region-de-los-lago...   \n",
       "3     https://www.radiosago.cl/puerto-octay-y-puerto...   \n",
       "4     https://www.radiosago.cl/244-nuevos-contagios-...   \n",
       "...                                                 ...   \n",
       "6768  https://www.laestrellachiloe.cl/impresa/2021/0...   \n",
       "6769  https://www.laestrellachiloe.cl/impresa/2021/0...   \n",
       "6770  https://www.laestrellachiloe.cl/impresa/2021/0...   \n",
       "6771  https://www.laestrellachiloe.cl/impresa/2021/0...   \n",
       "6772  https://www.elrepuertero.cl/noticia/sociedad/i...   \n",
       "\n",
       "                                                  title  \\\n",
       "0     Se intensifica el paro portuario en Puerto Mon...   \n",
       "1     Confirman octavo caso de Hantavirus en lo que ...   \n",
       "2     La región de Los Lagos reportó 283 contagios d...   \n",
       "3     Puerto Octay y Puerto Varas avanzarán a Fase 3...   \n",
       "4     244 nuevos contagios y 4 fallecidos por corona...   \n",
       "...                                                 ...   \n",
       "6768  Monster Hunter Rise ahora trae la cacería de m...   \n",
       "6769  Satélites artificiales: el impacto en vigilanc...   \n",
       "6770              Parche de Cyberpunk 2077 arregla bugs   \n",
       "6771              Among Us estrena su primer mapa nuevo   \n",
       "6772  Iniciativa única en Chile: Nuevo Laboratorio d...   \n",
       "\n",
       "                                                   text        date  \n",
       "0     Los trabajadores agrupados en la  Unión Portua...  2021-04-27  \n",
       "1     En la comuna de Panguipulli se registró un nue...  2021-04-28  \n",
       "2     Así lo dio a conocer la Seremi de Salud de la ...  2021-04-25  \n",
       "3     La Subsecretaria de Salud Pública, Paula Daza,...  2021-04-26  \n",
       "4     Según las cifras dadas a conocer por la autori...  2021-04-26  \n",
       "...                                                 ...         ...  \n",
       "6768  Tras el éxito comercial y críticas de Monster ...  2021-04-05  \n",
       "6769  De los más de 2.000 satélites artificiales que...  2021-04-05  \n",
       "6770  La actualización 1.2 de Cyberpunk 2077 está di...  2021-04-05  \n",
       "6771  Ya ha sido liberado el primer mapa nuevo del j...  2021-04-05  \n",
       "6772  El Concejo Municipal  de Puerto Montt aprobó- ...  2021-04-23  \n",
       "\n",
       "[6773 rows x 7 columns]"
      ]
     },
     "execution_count": 8,
     "metadata": {},
     "output_type": "execute_result"
    }
   ],
   "source": [
    "import pandas as pd\n",
    "\n",
    "data = {'id_news':[],'country':[],'media_outlet':[],'url':[],'title':[],'text':[],'date':[]}\n",
    "\n",
    "df = pd.DataFrame(data)  \n",
    "  \n",
    "for hit in res['hits']['hits']:\n",
    "    id_news = hit['_source']['id_news']\n",
    "    country = hit['_source']['country']\n",
    "    media_outlet = hit['_source']['media_outlet']\n",
    "    url = hit['_source']['url']\n",
    "    title = hit['_source']['title']\n",
    "    text = hit['_source']['text']\n",
    "    date = hit['_source']['date']\n",
    "    \n",
    "    new_row = {'id_news':id_news, 'country':country, 'media_outlet':media_outlet, 'url':url, 'title':title, 'text':text, 'date':date}\n",
    "    \n",
    "    df = df.append(new_row, ignore_index=True)\n",
    "\n",
    "df"
   ]
  },
  {
   "cell_type": "code",
   "execution_count": 9,
   "id": "6d537dae",
   "metadata": {},
   "outputs": [
    {
     "data": {
      "text/plain": [
       "True"
      ]
     },
     "execution_count": 9,
     "metadata": {},
     "output_type": "execute_result"
    }
   ],
   "source": [
    "df['url'].duplicated().any()"
   ]
  },
  {
   "cell_type": "code",
   "execution_count": 10,
   "id": "1cab7423",
   "metadata": {},
   "outputs": [],
   "source": [
    "df = df.drop_duplicates(subset='url', keep='first')"
   ]
  },
  {
   "cell_type": "code",
   "execution_count": 43,
   "id": "6b793440",
   "metadata": {},
   "outputs": [],
   "source": [
    "nombre_archivo=\"01-04-21.csv\"\n",
    "df.to_csv(nombre_archivo)"
   ]
  },
  {
   "cell_type": "code",
   "execution_count": 11,
   "id": "63276c5d",
   "metadata": {},
   "outputs": [
    {
     "data": {
      "text/plain": [
       "'Se intensifica el paro portuario en Puerto Montt en segundo día de protesta'"
      ]
     },
     "execution_count": 11,
     "metadata": {},
     "output_type": "execute_result"
    }
   ],
   "source": [
    "df['title'][0]"
   ]
  },
  {
   "cell_type": "code",
   "execution_count": null,
   "id": "55474fac",
   "metadata": {},
   "outputs": [],
   "source": []
  }
 ],
 "metadata": {
  "kernelspec": {
   "display_name": "Python 3 (ipykernel)",
   "language": "python",
   "name": "python3"
  },
  "language_info": {
   "codemirror_mode": {
    "name": "ipython",
    "version": 3
   },
   "file_extension": ".py",
   "mimetype": "text/x-python",
   "name": "python",
   "nbconvert_exporter": "python",
   "pygments_lexer": "ipython3",
   "version": "3.7.13"
  },
  "varInspector": {
   "cols": {
    "lenName": 16,
    "lenType": 16,
    "lenVar": 40
   },
   "kernels_config": {
    "python": {
     "delete_cmd_postfix": "",
     "delete_cmd_prefix": "del ",
     "library": "var_list.py",
     "varRefreshCmd": "print(var_dic_list())"
    },
    "r": {
     "delete_cmd_postfix": ") ",
     "delete_cmd_prefix": "rm(",
     "library": "var_list.r",
     "varRefreshCmd": "cat(var_dic_list()) "
    }
   },
   "types_to_exclude": [
    "module",
    "function",
    "builtin_function_or_method",
    "instance",
    "_Feature"
   ],
   "window_display": false
  }
 },
 "nbformat": 4,
 "nbformat_minor": 5
}
