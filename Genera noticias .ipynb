{
 "cells": [
  {
   "cell_type": "code",
   "execution_count": 1,
   "id": "7545b610",
   "metadata": {},
   "outputs": [],
   "source": [
    "import elasticsearch\n",
    "from datetime import datetime"
   ]
  },
  {
   "cell_type": "code",
   "execution_count": 15,
   "id": "f883f86e",
   "metadata": {},
   "outputs": [],
   "source": [
    "country=\"chile\"\n",
    "from_=\"2021-02-01\"\n",
    "to_=\"2021-02-28\"\n",
    "media_outlets=[\"elllanquihue\",\"elaustral\",\"laestrelladechiloe\",\"elheraldoaustral\",\"radiosago\",\n",
    "               \"elrepuertero\",\"elvacanudo\",\"elhuemul\",\"seminariolocal\",\"elquellonino\",\"elinsular\",\n",
    "               \"radiopudeto\",\"radioacogida\",\"elcalbucano\",\"segundos33\",\n",
    "               \"prensadelestuario\",\"fresiaahora\",\"soychiloe\"]\n",
    "\n",
    "keyword=\"\"\n",
    "simple_keyword=False"
   ]
  },
  {
   "cell_type": "code",
   "execution_count": 16,
   "id": "a21e6572",
   "metadata": {},
   "outputs": [],
   "source": [
    "IP = \"search.sophia2.org\"\n",
    "PORT = 9200\n",
    "USER= \"elastic\"\n",
    "PASS= \"dummy_elastic\""
   ]
  },
  {
   "cell_type": "code",
   "execution_count": 17,
   "id": "11421ce9",
   "metadata": {},
   "outputs": [],
   "source": [
    "#NO MODIFICAR\n",
    "\n",
    "es = elasticsearch.Elasticsearch(\n",
    "    IP,\n",
    "    #port=PORT,\n",
    "    http_auth=(USER, PASS)\n",
    ")"
   ]
  },
  {
   "cell_type": "code",
   "execution_count": 18,
   "id": "3ddf091e",
   "metadata": {},
   "outputs": [],
   "source": [
    "#NO MODIFICAR\n",
    "match=\"\"\n",
    "if (simple_keyword):\n",
    "    match=\"match\"\n",
    "else:\n",
    "    match=\"match_phrase\"\n",
    "\n",
    "query = { \n",
    "    \"bool\": { \n",
    "      #\"must\": [\n",
    "      #  {match: { \"text\":keyword}}\n",
    "\n",
    "      #],\n",
    "    \"filter\": [\n",
    "        {\"range\": {\n",
    "      \"date\": {\n",
    "        \"gte\": from_,\n",
    "        \"lt\": to_\n",
    "      }}},\n",
    "        { \"term\":  { \"country\": country }},\n",
    "        { \"terms\":  { \"media_outlet\": media_outlets }} \n",
    "    ]\n",
    "    }  \n",
    "}"
   ]
  },
  {
   "cell_type": "code",
   "execution_count": 19,
   "id": "7b38c0bd",
   "metadata": {},
   "outputs": [
    {
     "name": "stdout",
     "output_type": "stream",
     "text": [
      "Son 6444 noticias encontradas...\n"
     ]
    }
   ],
   "source": [
    "res = es.search(index=\"news\", query=query, size=10000)\n",
    "print(\"Son %d noticias encontradas...\" % res['hits']['total']['value'])"
   ]
  },
  {
   "cell_type": "code",
   "execution_count": 20,
   "id": "c04c0d47",
   "metadata": {},
   "outputs": [
    {
     "data": {
      "text/html": [
       "<div>\n",
       "<style scoped>\n",
       "    .dataframe tbody tr th:only-of-type {\n",
       "        vertical-align: middle;\n",
       "    }\n",
       "\n",
       "    .dataframe tbody tr th {\n",
       "        vertical-align: top;\n",
       "    }\n",
       "\n",
       "    .dataframe thead th {\n",
       "        text-align: right;\n",
       "    }\n",
       "</style>\n",
       "<table border=\"1\" class=\"dataframe\">\n",
       "  <thead>\n",
       "    <tr style=\"text-align: right;\">\n",
       "      <th></th>\n",
       "      <th>id_news</th>\n",
       "      <th>country</th>\n",
       "      <th>media_outlet</th>\n",
       "      <th>url</th>\n",
       "      <th>title</th>\n",
       "      <th>text</th>\n",
       "      <th>date</th>\n",
       "    </tr>\n",
       "  </thead>\n",
       "  <tbody>\n",
       "    <tr>\n",
       "      <th>0</th>\n",
       "      <td>21887877.0</td>\n",
       "      <td>chile</td>\n",
       "      <td>radiosago</td>\n",
       "      <td>https://www.radiosago.cl/15-equipos-de-vacunac...</td>\n",
       "      <td>15 equipos de vacunación dispuso el municipio ...</td>\n",
       "      <td>Hasta la Escuela Rural de Chamiza llegó el Se...</td>\n",
       "      <td>2021-02-10</td>\n",
       "    </tr>\n",
       "    <tr>\n",
       "      <th>1</th>\n",
       "      <td>21887907.0</td>\n",
       "      <td>chile</td>\n",
       "      <td>radiosago</td>\n",
       "      <td>https://www.radiosago.cl/plantas-de-revision-t...</td>\n",
       "      <td>Plantas de Revisión Técnica de Puerto Montt y ...</td>\n",
       "      <td>Con el objetivo de disminuir la espera y evit...</td>\n",
       "      <td>2021-02-03</td>\n",
       "    </tr>\n",
       "    <tr>\n",
       "      <th>2</th>\n",
       "      <td>21917228.0</td>\n",
       "      <td>chile</td>\n",
       "      <td>radiosago</td>\n",
       "      <td>https://www.radiosago.cl/comenzo-el-ingreso-de...</td>\n",
       "      <td>Comenzó el ingreso de oferta de recursos de la...</td>\n",
       "      <td>A través de esta iniciativa en el sitio web de...</td>\n",
       "      <td>2021-02-20</td>\n",
       "    </tr>\n",
       "    <tr>\n",
       "      <th>3</th>\n",
       "      <td>21917905.0</td>\n",
       "      <td>chile</td>\n",
       "      <td>radiosago</td>\n",
       "      <td>https://www.radiosago.cl/sernapesca-actualizo-...</td>\n",
       "      <td>Sernapesca actualizó cierre de áreas por marea...</td>\n",
       "      <td>El Servicio Nacional de Pesca y Acuicultura in...</td>\n",
       "      <td>2021-02-06</td>\n",
       "    </tr>\n",
       "    <tr>\n",
       "      <th>4</th>\n",
       "      <td>21917424.0</td>\n",
       "      <td>chile</td>\n",
       "      <td>radiosago</td>\n",
       "      <td>https://www.radiosago.cl/encapuchados-protagon...</td>\n",
       "      <td>Encapuchados protagonizaron un ataque incendia...</td>\n",
       "      <td>Pasadas las 04:00 horas de este viernes, un gr...</td>\n",
       "      <td>2021-02-19</td>\n",
       "    </tr>\n",
       "    <tr>\n",
       "      <th>...</th>\n",
       "      <td>...</td>\n",
       "      <td>...</td>\n",
       "      <td>...</td>\n",
       "      <td>...</td>\n",
       "      <td>...</td>\n",
       "      <td>...</td>\n",
       "      <td>...</td>\n",
       "    </tr>\n",
       "    <tr>\n",
       "      <th>6439</th>\n",
       "      <td>47507259.0</td>\n",
       "      <td>chile</td>\n",
       "      <td>laestrelladechiloe</td>\n",
       "      <td>https://www.laestrellachiloe.cl/impresa/2021/0...</td>\n",
       "      <td>Atrapan a 4 estudiantes por ataque a liceo por...</td>\n",
       "      <td>Con una salida alternativa quedaron los cuatro...</td>\n",
       "      <td>2021-02-08</td>\n",
       "    </tr>\n",
       "    <tr>\n",
       "      <th>6440</th>\n",
       "      <td>47507260.0</td>\n",
       "      <td>chile</td>\n",
       "      <td>laestrelladechiloe</td>\n",
       "      <td>https://www.laestrellachiloe.cl/impresa/2021/0...</td>\n",
       "      <td>Queman carpa fuera de la ex Feria Yumbel</td>\n",
       "      <td>Preocupados se encuentran los vecinos aledaños...</td>\n",
       "      <td>2021-02-08</td>\n",
       "    </tr>\n",
       "    <tr>\n",
       "      <th>6441</th>\n",
       "      <td>47507359.0</td>\n",
       "      <td>chile</td>\n",
       "      <td>laestrelladechiloe</td>\n",
       "      <td>https://www.laestrellachiloe.cl/impresa/2021/0...</td>\n",
       "      <td>Billie Eilish anuncia que ya tiene listo su pr...</td>\n",
       "      <td>La cantante Bilie Eilish reveló en conversació...</td>\n",
       "      <td>2021-02-27</td>\n",
       "    </tr>\n",
       "    <tr>\n",
       "      <th>6442</th>\n",
       "      <td>47507360.0</td>\n",
       "      <td>chile</td>\n",
       "      <td>laestrelladechiloe</td>\n",
       "      <td>https://www.laestrellachiloe.cl/impresa/2021/0...</td>\n",
       "      <td>HBO compra serie chilena \"Isabel\" para emitirl...</td>\n",
       "      <td>La serie \"Isabel\", basada en la historia íntim...</td>\n",
       "      <td>2021-02-27</td>\n",
       "    </tr>\n",
       "    <tr>\n",
       "      <th>6443</th>\n",
       "      <td>47507262.0</td>\n",
       "      <td>chile</td>\n",
       "      <td>laestrelladechiloe</td>\n",
       "      <td>https://www.laestrellachiloe.cl/impresa/2021/0...</td>\n",
       "      <td>Conjunto Llauquil de Quellón celebra 40 años d...</td>\n",
       "      <td>40 años de trayectoria se encuentra celebrando...</td>\n",
       "      <td>2021-02-08</td>\n",
       "    </tr>\n",
       "  </tbody>\n",
       "</table>\n",
       "<p>6444 rows × 7 columns</p>\n",
       "</div>"
      ],
      "text/plain": [
       "         id_news country        media_outlet  \\\n",
       "0     21887877.0   chile           radiosago   \n",
       "1     21887907.0   chile           radiosago   \n",
       "2     21917228.0   chile           radiosago   \n",
       "3     21917905.0   chile           radiosago   \n",
       "4     21917424.0   chile           radiosago   \n",
       "...          ...     ...                 ...   \n",
       "6439  47507259.0   chile  laestrelladechiloe   \n",
       "6440  47507260.0   chile  laestrelladechiloe   \n",
       "6441  47507359.0   chile  laestrelladechiloe   \n",
       "6442  47507360.0   chile  laestrelladechiloe   \n",
       "6443  47507262.0   chile  laestrelladechiloe   \n",
       "\n",
       "                                                    url  \\\n",
       "0     https://www.radiosago.cl/15-equipos-de-vacunac...   \n",
       "1     https://www.radiosago.cl/plantas-de-revision-t...   \n",
       "2     https://www.radiosago.cl/comenzo-el-ingreso-de...   \n",
       "3     https://www.radiosago.cl/sernapesca-actualizo-...   \n",
       "4     https://www.radiosago.cl/encapuchados-protagon...   \n",
       "...                                                 ...   \n",
       "6439  https://www.laestrellachiloe.cl/impresa/2021/0...   \n",
       "6440  https://www.laestrellachiloe.cl/impresa/2021/0...   \n",
       "6441  https://www.laestrellachiloe.cl/impresa/2021/0...   \n",
       "6442  https://www.laestrellachiloe.cl/impresa/2021/0...   \n",
       "6443  https://www.laestrellachiloe.cl/impresa/2021/0...   \n",
       "\n",
       "                                                  title  \\\n",
       "0     15 equipos de vacunación dispuso el municipio ...   \n",
       "1     Plantas de Revisión Técnica de Puerto Montt y ...   \n",
       "2     Comenzó el ingreso de oferta de recursos de la...   \n",
       "3     Sernapesca actualizó cierre de áreas por marea...   \n",
       "4     Encapuchados protagonizaron un ataque incendia...   \n",
       "...                                                 ...   \n",
       "6439  Atrapan a 4 estudiantes por ataque a liceo por...   \n",
       "6440           Queman carpa fuera de la ex Feria Yumbel   \n",
       "6441  Billie Eilish anuncia que ya tiene listo su pr...   \n",
       "6442  HBO compra serie chilena \"Isabel\" para emitirl...   \n",
       "6443  Conjunto Llauquil de Quellón celebra 40 años d...   \n",
       "\n",
       "                                                   text        date  \n",
       "0      Hasta la Escuela Rural de Chamiza llegó el Se...  2021-02-10  \n",
       "1      Con el objetivo de disminuir la espera y evit...  2021-02-03  \n",
       "2     A través de esta iniciativa en el sitio web de...  2021-02-20  \n",
       "3     El Servicio Nacional de Pesca y Acuicultura in...  2021-02-06  \n",
       "4     Pasadas las 04:00 horas de este viernes, un gr...  2021-02-19  \n",
       "...                                                 ...         ...  \n",
       "6439  Con una salida alternativa quedaron los cuatro...  2021-02-08  \n",
       "6440  Preocupados se encuentran los vecinos aledaños...  2021-02-08  \n",
       "6441  La cantante Bilie Eilish reveló en conversació...  2021-02-27  \n",
       "6442  La serie \"Isabel\", basada en la historia íntim...  2021-02-27  \n",
       "6443  40 años de trayectoria se encuentra celebrando...  2021-02-08  \n",
       "\n",
       "[6444 rows x 7 columns]"
      ]
     },
     "execution_count": 20,
     "metadata": {},
     "output_type": "execute_result"
    }
   ],
   "source": [
    "import pandas as pd\n",
    "\n",
    "data = {'id_news':[],'country':[],'media_outlet':[],'url':[],'title':[],'text':[],'date':[]}\n",
    "\n",
    "df = pd.DataFrame(data)  \n",
    "  \n",
    "for hit in res['hits']['hits']:\n",
    "    id_news = hit['_source']['id_news']\n",
    "    country = hit['_source']['country']\n",
    "    media_outlet = hit['_source']['media_outlet']\n",
    "    url = hit['_source']['url']\n",
    "    title = hit['_source']['title']\n",
    "    text = hit['_source']['text']\n",
    "    date = hit['_source']['date']\n",
    "    \n",
    "    new_row = {'id_news':id_news, 'country':country, 'media_outlet':media_outlet, 'url':url, 'title':title, 'text':text, 'date':date}\n",
    "    \n",
    "    df = df.append(new_row, ignore_index=True)\n",
    "\n",
    "df"
   ]
  },
  {
   "cell_type": "code",
   "execution_count": 21,
   "id": "edfa4d4a",
   "metadata": {},
   "outputs": [
    {
     "data": {
      "text/plain": [
       "True"
      ]
     },
     "execution_count": 21,
     "metadata": {},
     "output_type": "execute_result"
    }
   ],
   "source": [
    "df['url'].duplicated().any()"
   ]
  },
  {
   "cell_type": "code",
   "execution_count": 22,
   "id": "ae4770bc",
   "metadata": {},
   "outputs": [],
   "source": [
    "df = df.drop_duplicates(subset='url', keep='first')"
   ]
  },
  {
   "cell_type": "code",
   "execution_count": 23,
   "id": "22e080b6",
   "metadata": {},
   "outputs": [],
   "source": [
    "nombre_archivo=\"01-02-21.csv\"\n",
    "df.to_csv(nombre_archivo)"
   ]
  },
  {
   "cell_type": "code",
   "execution_count": null,
   "id": "f2b72b29",
   "metadata": {},
   "outputs": [],
   "source": []
  }
 ],
 "metadata": {
  "kernelspec": {
   "display_name": "Python 3 (ipykernel)",
   "language": "python",
   "name": "python3"
  },
  "language_info": {
   "codemirror_mode": {
    "name": "ipython",
    "version": 3
   },
   "file_extension": ".py",
   "mimetype": "text/x-python",
   "name": "python",
   "nbconvert_exporter": "python",
   "pygments_lexer": "ipython3",
   "version": "3.7.13"
  },
  "varInspector": {
   "cols": {
    "lenName": 16,
    "lenType": 16,
    "lenVar": 40
   },
   "kernels_config": {
    "python": {
     "delete_cmd_postfix": "",
     "delete_cmd_prefix": "del ",
     "library": "var_list.py",
     "varRefreshCmd": "print(var_dic_list())"
    },
    "r": {
     "delete_cmd_postfix": ") ",
     "delete_cmd_prefix": "rm(",
     "library": "var_list.r",
     "varRefreshCmd": "cat(var_dic_list()) "
    }
   },
   "types_to_exclude": [
    "module",
    "function",
    "builtin_function_or_method",
    "instance",
    "_Feature"
   ],
   "window_display": false
  }
 },
 "nbformat": 4,
 "nbformat_minor": 5
}
