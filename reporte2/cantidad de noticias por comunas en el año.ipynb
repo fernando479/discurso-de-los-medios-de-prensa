{
 "cells": [
  {
   "cell_type": "code",
   "execution_count": 1,
   "id": "f14071e2",
   "metadata": {},
   "outputs": [],
   "source": [
    "import pandas\n",
    "\n",
    "data1 =  pandas.read_csv('1-4mes/cantidad de noticias por comunas en el año1-4mes.csv')\n",
    "data1.drop('Unnamed: 0', axis=1, inplace=True)\n",
    "\n",
    "\n",
    "data2 = pandas.read_csv('5-8mes/cantidad de noticias por comunas en el año5-8mes.csv')\n",
    "data2.drop('Unnamed: 0', axis=1, inplace=True)\n",
    "\n",
    "\n",
    "data3 = pandas.read_csv('9-12mes/cantidad de noticias por comunas en el año9-12mes.csv')\n",
    "data3.drop('Unnamed: 0', axis=1, inplace=True)\n"
   ]
  },
  {
   "cell_type": "code",
   "execution_count": 2,
   "id": "29d35082",
   "metadata": {},
   "outputs": [],
   "source": [
    "cantidadNoticiasComunasEnElAño= pandas.concat([data1, data2, data3], axis=0)"
   ]
  },
  {
   "cell_type": "code",
   "execution_count": 3,
   "id": "1bf8d241",
   "metadata": {},
   "outputs": [],
   "source": [
    "ciudades = [\"Ancud\",\"Castro\",\"Chonchi\",\n",
    "           \"Curaco_de_Vélez\", \"Dalcahue\",\"Puqueldón\",\n",
    "          \"Queilén\",\"Quemchi\",\"Quellón\",\n",
    "           \"Quinchao\",\"Calbuco\",\"Cochamó\",\n",
    "          \"Fresia\",\"Frutillar\",\"Llanquihue\",\n",
    "           \"Los_Muermos\",\"Maullín\",\"Puerto_Montt\",\n",
    "          \"Puerto_Varas\",\"Osorno\",\"Puerto_Octay\",\n",
    "          \"Purranque\",\"Puyehue\",\"Río_Negro\",\n",
    "           \"San_Juan_de_la_Costa\",\"San_Pablo\",\"Chaitén\",\n",
    "          \"Futaleufú\",\"Hualaihué\",\"Palena\"]"
   ]
  },
  {
   "cell_type": "code",
   "execution_count": 4,
   "id": "1ef12d09",
   "metadata": {},
   "outputs": [],
   "source": [
    "from pandasql import sqldf "
   ]
  },
  {
   "cell_type": "code",
   "execution_count": 5,
   "id": "26ce70c4",
   "metadata": {},
   "outputs": [
    {
     "data": {
      "text/html": [
       "<div>\n",
       "<style scoped>\n",
       "    .dataframe tbody tr th:only-of-type {\n",
       "        vertical-align: middle;\n",
       "    }\n",
       "\n",
       "    .dataframe tbody tr th {\n",
       "        vertical-align: top;\n",
       "    }\n",
       "\n",
       "    .dataframe thead th {\n",
       "        text-align: right;\n",
       "    }\n",
       "</style>\n",
       "<table border=\"1\" class=\"dataframe\">\n",
       "  <thead>\n",
       "    <tr style=\"text-align: right;\">\n",
       "      <th></th>\n",
       "      <th>Ancud</th>\n",
       "      <th>Castro</th>\n",
       "      <th>Chonchi</th>\n",
       "      <th>Curaco_de_Vélez</th>\n",
       "      <th>Dalcahue</th>\n",
       "      <th>Puqueldón</th>\n",
       "      <th>Queilén</th>\n",
       "      <th>Quemchi</th>\n",
       "      <th>Quellón</th>\n",
       "      <th>Quinchao</th>\n",
       "      <th>...</th>\n",
       "      <th>Puerto_Octay</th>\n",
       "      <th>Purranque</th>\n",
       "      <th>Puyehue</th>\n",
       "      <th>Río_Negro</th>\n",
       "      <th>San_Juan_de_la_Costa</th>\n",
       "      <th>San_Pablo</th>\n",
       "      <th>Chaitén</th>\n",
       "      <th>Futaleufú</th>\n",
       "      <th>Hualaihué</th>\n",
       "      <th>Palena</th>\n",
       "    </tr>\n",
       "  </thead>\n",
       "  <tbody>\n",
       "    <tr>\n",
       "      <th>0</th>\n",
       "      <td>2101</td>\n",
       "      <td>2817</td>\n",
       "      <td>987</td>\n",
       "      <td>610</td>\n",
       "      <td>949</td>\n",
       "      <td>572</td>\n",
       "      <td>23</td>\n",
       "      <td>677</td>\n",
       "      <td>1397</td>\n",
       "      <td>820</td>\n",
       "      <td>...</td>\n",
       "      <td>663</td>\n",
       "      <td>685</td>\n",
       "      <td>739</td>\n",
       "      <td>638</td>\n",
       "      <td>433</td>\n",
       "      <td>542</td>\n",
       "      <td>550</td>\n",
       "      <td>407</td>\n",
       "      <td>457</td>\n",
       "      <td>1031</td>\n",
       "    </tr>\n",
       "  </tbody>\n",
       "</table>\n",
       "<p>1 rows × 30 columns</p>\n",
       "</div>"
      ],
      "text/plain": [
       "   Ancud  Castro  Chonchi  Curaco_de_Vélez  Dalcahue  Puqueldón  Queilén  \\\n",
       "0   2101    2817      987              610       949        572       23   \n",
       "\n",
       "   Quemchi  Quellón  Quinchao  ...  Puerto_Octay  Purranque  Puyehue  \\\n",
       "0      677     1397       820  ...           663        685      739   \n",
       "\n",
       "   Río_Negro  San_Juan_de_la_Costa  San_Pablo  Chaitén  Futaleufú  Hualaihué  \\\n",
       "0        638                   433        542      550        407        457   \n",
       "\n",
       "   Palena  \n",
       "0    1031  \n",
       "\n",
       "[1 rows x 30 columns]"
      ]
     },
     "execution_count": 5,
     "metadata": {},
     "output_type": "execute_result"
    }
   ],
   "source": [
    "cantidadNoticiasComunasAno = pandas.DataFrame({})\n",
    "for i in ciudades:\n",
    "    #print(i)\n",
    "    result = sqldf(\" SELECT SUM(\"+i+\") FROM cantidadNoticiasComunasEnElAño\")\n",
    "    cantidadNoticiasComunasAno[i]=result\n",
    "cantidadNoticiasComunasAno"
   ]
  },
  {
   "cell_type": "code",
   "execution_count": 6,
   "id": "61a2be62",
   "metadata": {},
   "outputs": [],
   "source": [
    "cantidadNoticiasComunasAno.to_csv('cantidad de noticias por comunas en el año.csv')"
   ]
  },
  {
   "cell_type": "code",
   "execution_count": null,
   "id": "a22225e2",
   "metadata": {},
   "outputs": [],
   "source": []
  }
 ],
 "metadata": {
  "kernelspec": {
   "display_name": "Python 3 (ipykernel)",
   "language": "python",
   "name": "python3"
  },
  "language_info": {
   "codemirror_mode": {
    "name": "ipython",
    "version": 3
   },
   "file_extension": ".py",
   "mimetype": "text/x-python",
   "name": "python",
   "nbconvert_exporter": "python",
   "pygments_lexer": "ipython3",
   "version": "3.9.15"
  }
 },
 "nbformat": 4,
 "nbformat_minor": 5
}
